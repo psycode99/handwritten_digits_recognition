{
 "cells": [
  {
   "cell_type": "markdown",
   "id": "32fc243d",
   "metadata": {},
   "source": [
    "# Import Statements"
   ]
  },
  {
   "cell_type": "code",
   "execution_count": 1,
   "id": "81b46455",
   "metadata": {},
   "outputs": [],
   "source": [
    "from numpy.random import seed\n",
    "seed(888)\n",
    "import tensorflow as tf\n",
    "tf.random.set_seed(404)"
   ]
  },
  {
   "cell_type": "code",
   "execution_count": 2,
   "id": "b85f5ae2",
   "metadata": {},
   "outputs": [],
   "source": [
    "import os\n",
    "import numpy as np\n",
    "import tensorflow as tf\n",
    "\n",
    "from time import strftime"
   ]
  },
  {
   "cell_type": "markdown",
   "id": "04db7d0d",
   "metadata": {},
   "source": [
    "# Constants"
   ]
  },
  {
   "cell_type": "code",
   "execution_count": 3,
   "id": "5a1390e7",
   "metadata": {},
   "outputs": [],
   "source": [
    "X_TRAIN_PATH = 'MNIST/digit_xtrain.csv'\n",
    "X_TEST_PATH = 'MNIST/digit_xtest.csv'\n",
    "Y_TRAIN_PATH = 'MNIST/digit_ytrain.csv'\n",
    "Y_TEST_PATH = 'MNIST/digit_ytest.csv'\n",
    "LOGGING_PATH = 'tensorbaord_mnist_digits_logs/'\n",
    "\n",
    "NR_CLASSES = 10\n",
    "VALIDATION_SIZE = 10000\n",
    "\n",
    "IMAGE_HEIGHT = 28\n",
    "IMAGE_WIDTH = 28\n",
    "CHANNELS = 1\n",
    "TOTAL_INPUTS = IMAGE_HEIGHT*IMAGE_WIDTH*CHANNELS"
   ]
  },
  {
   "cell_type": "markdown",
   "id": "b4bce7bb",
   "metadata": {},
   "source": [
    "# Gather Data"
   ]
  },
  {
   "cell_type": "code",
   "execution_count": 4,
   "id": "12f63004",
   "metadata": {
    "code_folding": []
   },
   "outputs": [
    {
     "name": "stdout",
     "output_type": "stream",
     "text": [
      "CPU times: total: 62.5 ms\n",
      "Wall time: 183 ms\n"
     ]
    }
   ],
   "source": [
    "%%time\n",
    "y_train_all = np.loadtxt(Y_TRAIN_PATH, delimiter=',', dtype=int)"
   ]
  },
  {
   "cell_type": "code",
   "execution_count": 5,
   "id": "7787cee0",
   "metadata": {},
   "outputs": [
    {
     "data": {
      "text/plain": [
       "(60000,)"
      ]
     },
     "execution_count": 5,
     "metadata": {},
     "output_type": "execute_result"
    }
   ],
   "source": [
    "y_train_all.shape"
   ]
  },
  {
   "cell_type": "code",
   "execution_count": 6,
   "id": "d3062728",
   "metadata": {},
   "outputs": [],
   "source": [
    "y_test = np.loadtxt(Y_TEST_PATH, delimiter=',', dtype=int)"
   ]
  },
  {
   "cell_type": "code",
   "execution_count": 7,
   "id": "5c184b44",
   "metadata": {},
   "outputs": [
    {
     "name": "stdout",
     "output_type": "stream",
     "text": [
      "CPU times: total: 27.6 s\n",
      "Wall time: 28.5 s\n"
     ]
    }
   ],
   "source": [
    "%%time\n",
    "x_train_all = np.loadtxt(X_TRAIN_PATH, delimiter=',', dtype=int)\n"
   ]
  },
  {
   "cell_type": "code",
   "execution_count": 8,
   "id": "0dce3612",
   "metadata": {},
   "outputs": [
    {
     "name": "stdout",
     "output_type": "stream",
     "text": [
      "CPU times: total: 2.8 s\n",
      "Wall time: 3.01 s\n"
     ]
    }
   ],
   "source": [
    "%%time\n",
    "x_test = np.loadtxt(X_TEST_PATH, delimiter=',', dtype=int)"
   ]
  },
  {
   "cell_type": "markdown",
   "id": "dadbf344",
   "metadata": {},
   "source": [
    "# Data Exploration"
   ]
  },
  {
   "cell_type": "code",
   "execution_count": 9,
   "id": "23b4bac3",
   "metadata": {},
   "outputs": [
    {
     "data": {
      "text/plain": [
       "(60000, 784)"
      ]
     },
     "execution_count": 9,
     "metadata": {},
     "output_type": "execute_result"
    }
   ],
   "source": [
    "x_train_all.shape\n",
    "# 784 => 28(width) * 28(height) * 1(nr. of channels)"
   ]
  },
  {
   "cell_type": "code",
   "execution_count": 10,
   "id": "9864f298",
   "metadata": {
    "scrolled": true
   },
   "outputs": [
    {
     "data": {
      "text/plain": [
       "array([  0,   0,   0,   0,   0,   0,   0,   0,   0,   0,   0,   0,   0,\n",
       "         0,   0,   0,   0,   0,   0,   0,   0,   0,   0,   0,   0,   0,\n",
       "         0,   0,   0,   0,   0,   0,   0,   0,   0,   0,   0,   0,   0,\n",
       "         0,   0,   0,   0,   0,   0,   0,   0,   0,   0,   0,   0,   0,\n",
       "         0,   0,   0,   0,   0,   0,   0,   0,   0,   0,   0,   0,   0,\n",
       "         0,   0,   0,   0,   0,   0,   0,   0,   0,   0,   0,   0,   0,\n",
       "         0,   0,   0,   0,   0,   0,   0,   0,   0,   0,   0,   0,   0,\n",
       "         0,   0,   0,   0,   0,   0,   0,   0,   0,   0,   0,   0,   0,\n",
       "         0,   0,   0,   0,   0,   0,   0,   0,   0,   0,   0,   0,   0,\n",
       "         0,   0,   0,   0,   0,   0,   0,   0,   0,   0,   0,   0,   0,\n",
       "         0,   0,   0,   0,   0,   0,   0,   0,   0,   0,   0,   0,   0,\n",
       "         0,   0,   0,   0,   0,   0,   0,   0,   0,   3,  18,  18,  18,\n",
       "       126, 136, 175,  26, 166, 255, 247, 127,   0,   0,   0,   0,   0,\n",
       "         0,   0,   0,   0,   0,   0,   0,  30,  36,  94, 154, 170, 253,\n",
       "       253, 253, 253, 253, 225, 172, 253, 242, 195,  64,   0,   0,   0,\n",
       "         0,   0,   0,   0,   0,   0,   0,   0,  49, 238, 253, 253, 253,\n",
       "       253, 253, 253, 253, 253, 251,  93,  82,  82,  56,  39,   0,   0,\n",
       "         0,   0,   0,   0,   0,   0,   0,   0,   0,   0,  18, 219, 253,\n",
       "       253, 253, 253, 253, 198, 182, 247, 241,   0,   0,   0,   0,   0,\n",
       "         0,   0,   0,   0,   0,   0,   0,   0,   0,   0,   0,   0,   0,\n",
       "        80, 156, 107, 253, 253, 205,  11,   0,  43, 154,   0,   0,   0,\n",
       "         0,   0,   0,   0,   0,   0,   0,   0,   0,   0,   0,   0,   0,\n",
       "         0,   0,   0,  14,   1, 154, 253,  90,   0,   0,   0,   0,   0,\n",
       "         0,   0,   0,   0,   0,   0,   0,   0,   0,   0,   0,   0,   0,\n",
       "         0,   0,   0,   0,   0,   0,   0, 139, 253, 190,   2,   0,   0,\n",
       "         0,   0,   0,   0,   0,   0,   0,   0,   0,   0,   0,   0,   0,\n",
       "         0,   0,   0,   0,   0,   0,   0,   0,   0,  11, 190, 253,  70,\n",
       "         0,   0,   0,   0,   0,   0,   0,   0,   0,   0,   0,   0,   0,\n",
       "         0,   0,   0,   0,   0,   0,   0,   0,   0,   0,   0,   0,  35,\n",
       "       241, 225, 160, 108,   1,   0,   0,   0,   0,   0,   0,   0,   0,\n",
       "         0,   0,   0,   0,   0,   0,   0,   0,   0,   0,   0,   0,   0,\n",
       "         0,   0,  81, 240, 253, 253, 119,  25,   0,   0,   0,   0,   0,\n",
       "         0,   0,   0,   0,   0,   0,   0,   0,   0,   0,   0,   0,   0,\n",
       "         0,   0,   0,   0,   0,  45, 186, 253, 253, 150,  27,   0,   0,\n",
       "         0,   0,   0,   0,   0,   0,   0,   0,   0,   0,   0,   0,   0,\n",
       "         0,   0,   0,   0,   0,   0,   0,   0,  16,  93, 252, 253, 187,\n",
       "         0,   0,   0,   0,   0,   0,   0,   0,   0,   0,   0,   0,   0,\n",
       "         0,   0,   0,   0,   0,   0,   0,   0,   0,   0,   0,   0, 249,\n",
       "       253, 249,  64,   0,   0,   0,   0,   0,   0,   0,   0,   0,   0,\n",
       "         0,   0,   0,   0,   0,   0,   0,   0,   0,   0,   0,  46, 130,\n",
       "       183, 253, 253, 207,   2,   0,   0,   0,   0,   0,   0,   0,   0,\n",
       "         0,   0,   0,   0,   0,   0,   0,   0,   0,   0,   0,  39, 148,\n",
       "       229, 253, 253, 253, 250, 182,   0,   0,   0,   0,   0,   0,   0,\n",
       "         0,   0,   0,   0,   0,   0,   0,   0,   0,   0,   0,  24, 114,\n",
       "       221, 253, 253, 253, 253, 201,  78,   0,   0,   0,   0,   0,   0,\n",
       "         0,   0,   0,   0,   0,   0,   0,   0,   0,   0,   0,  23,  66,\n",
       "       213, 253, 253, 253, 253, 198,  81,   2,   0,   0,   0,   0,   0,\n",
       "         0,   0,   0,   0,   0,   0,   0,   0,   0,   0,   0,  18, 171,\n",
       "       219, 253, 253, 253, 253, 195,  80,   9,   0,   0,   0,   0,   0,\n",
       "         0,   0,   0,   0,   0,   0,   0,   0,   0,   0,   0,  55, 172,\n",
       "       226, 253, 253, 253, 253, 244, 133,  11,   0,   0,   0,   0,   0,\n",
       "         0,   0,   0,   0,   0,   0,   0,   0,   0,   0,   0,   0,   0,\n",
       "       136, 253, 253, 253, 212, 135, 132,  16,   0,   0,   0,   0,   0,\n",
       "         0,   0,   0,   0,   0,   0,   0,   0,   0,   0,   0,   0,   0,\n",
       "         0,   0,   0,   0,   0,   0,   0,   0,   0,   0,   0,   0,   0,\n",
       "         0,   0,   0,   0,   0,   0,   0,   0,   0,   0,   0,   0,   0,\n",
       "         0,   0,   0,   0,   0,   0,   0,   0,   0,   0,   0,   0,   0,\n",
       "         0,   0,   0,   0,   0,   0,   0,   0,   0,   0,   0,   0,   0,\n",
       "         0,   0,   0,   0,   0,   0,   0,   0,   0,   0,   0,   0,   0,\n",
       "         0,   0,   0,   0,   0,   0,   0,   0,   0,   0,   0,   0,   0,\n",
       "         0,   0,   0,   0])"
      ]
     },
     "execution_count": 10,
     "metadata": {},
     "output_type": "execute_result"
    }
   ],
   "source": [
    "x_train_all[0]\n",
    "# 0 => very white, 255 => very black,in-between => shades of gray"
   ]
  },
  {
   "cell_type": "code",
   "execution_count": 11,
   "id": "a69da127",
   "metadata": {},
   "outputs": [
    {
     "data": {
      "text/plain": [
       "(10000, 784)"
      ]
     },
     "execution_count": 11,
     "metadata": {},
     "output_type": "execute_result"
    }
   ],
   "source": [
    "x_test.shape"
   ]
  },
  {
   "cell_type": "code",
   "execution_count": 12,
   "id": "ca74022a",
   "metadata": {},
   "outputs": [
    {
     "data": {
      "text/plain": [
       "(60000,)"
      ]
     },
     "execution_count": 12,
     "metadata": {},
     "output_type": "execute_result"
    }
   ],
   "source": [
    "y_train_all.shape"
   ]
  },
  {
   "cell_type": "code",
   "execution_count": 13,
   "id": "6be50259",
   "metadata": {},
   "outputs": [
    {
     "data": {
      "text/plain": [
       "array([5, 0, 4, 1, 9])"
      ]
     },
     "execution_count": 13,
     "metadata": {},
     "output_type": "execute_result"
    }
   ],
   "source": [
    "y_train_all[:5]"
   ]
  },
  {
   "cell_type": "markdown",
   "id": "2081ba04",
   "metadata": {},
   "source": [
    "# Data Preprocessing"
   ]
  },
  {
   "cell_type": "markdown",
   "id": "5a931b5b",
   "metadata": {},
   "source": [
    "#### Re-Scaling"
   ]
  },
  {
   "cell_type": "code",
   "execution_count": 14,
   "id": "c989e7fc",
   "metadata": {},
   "outputs": [],
   "source": [
    "x_train_all, x_test = x_train_all / 255.0, x_test / 255.0"
   ]
  },
  {
   "cell_type": "markdown",
   "id": "6d185e06",
   "metadata": {},
   "source": [
    "## Converting Target Values to One-Hot Encoding"
   ]
  },
  {
   "cell_type": "code",
   "execution_count": 15,
   "id": "da606932",
   "metadata": {
    "code_folding": [
     1
    ]
   },
   "outputs": [
    {
     "data": {
      "text/plain": [
       "array([[0., 0., 0., 0., 0., 1., 0., 0., 0., 0.],\n",
       "       [1., 0., 0., 0., 0., 0., 0., 0., 0., 0.],\n",
       "       [0., 0., 0., 0., 1., 0., 0., 0., 0., 0.],\n",
       "       [0., 1., 0., 0., 0., 0., 0., 0., 0., 0.],\n",
       "       [0., 0., 0., 0., 0., 0., 0., 0., 0., 1.]])"
      ]
     },
     "execution_count": 15,
     "metadata": {},
     "output_type": "execute_result"
    }
   ],
   "source": [
    "np.eye(10)[y_train_all[:5]]\n",
    "# the np.eye() function takes nr. of rows as a parameter and then creates an array with the given nr.\n",
    "# of rows with 1 going diagonally and the rest being zeros. However, in our usage we add an array \n",
    "# of values i.e [y_train_all[:5]], and the value at the position of the index of \n",
    "# the value in [y_train_all[:5]] is replaced with 1"
   ]
  },
  {
   "cell_type": "code",
   "execution_count": 16,
   "id": "a81e4bb3",
   "metadata": {},
   "outputs": [],
   "source": [
    "y_train_all = np.eye(NR_CLASSES)[y_train_all]"
   ]
  },
  {
   "cell_type": "code",
   "execution_count": 17,
   "id": "b153d6ec",
   "metadata": {},
   "outputs": [
    {
     "data": {
      "text/plain": [
       "(10000, 10)"
      ]
     },
     "execution_count": 17,
     "metadata": {},
     "output_type": "execute_result"
    }
   ],
   "source": [
    "y_test = np.eye(NR_CLASSES)[y_test]\n",
    "y_test.shape"
   ]
  },
  {
   "cell_type": "code",
   "execution_count": 18,
   "id": "3f94167c",
   "metadata": {},
   "outputs": [
    {
     "data": {
      "text/plain": [
       "(60000, 10)"
      ]
     },
     "execution_count": 18,
     "metadata": {},
     "output_type": "execute_result"
    }
   ],
   "source": [
    "y_train_all.shape"
   ]
  },
  {
   "cell_type": "markdown",
   "id": "f5b5c3ca",
   "metadata": {},
   "source": [
    "## Creating Validation Dataset from Training Dataset"
   ]
  },
  {
   "cell_type": "code",
   "execution_count": 19,
   "id": "bd196e12",
   "metadata": {},
   "outputs": [
    {
     "data": {
      "text/plain": [
       "(10000, 784)"
      ]
     },
     "execution_count": 19,
     "metadata": {},
     "output_type": "execute_result"
    }
   ],
   "source": [
    "x_val = x_train_all[:VALIDATION_SIZE]\n",
    "y_val = y_train_all[:VALIDATION_SIZE]\n",
    "x_val.shape"
   ]
  },
  {
   "cell_type": "code",
   "execution_count": 20,
   "id": "b774448e",
   "metadata": {},
   "outputs": [
    {
     "data": {
      "text/plain": [
       "(50000, 10)"
      ]
     },
     "execution_count": 20,
     "metadata": {},
     "output_type": "execute_result"
    }
   ],
   "source": [
    "x_train = x_train_all[VALIDATION_SIZE:]\n",
    "y_train = y_train_all[VALIDATION_SIZE:]\n",
    "y_train.shape"
   ]
  },
  {
   "cell_type": "markdown",
   "id": "a5ad28d9",
   "metadata": {},
   "source": [
    "# Setup Tensorflow Graph"
   ]
  },
  {
   "cell_type": "code",
   "execution_count": 43,
   "id": "7f93ef3a",
   "metadata": {},
   "outputs": [],
   "source": [
    "tf.compat.v1.disable_eager_execution()\n",
    "X = tf.compat.v1.placeholder(tf.float32, shape=[None, TOTAL_INPUTS], name='X')\n",
    "Y = tf.compat.v1.placeholder(tf.float32, shape=[None, NR_CLASSES], name='Labels')"
   ]
  },
  {
   "cell_type": "markdown",
   "id": "b6945c8c",
   "metadata": {},
   "source": [
    "## Neural Network Architecture\n",
    "### Hyperparameters"
   ]
  },
  {
   "cell_type": "code",
   "execution_count": 44,
   "id": "4e2566cb",
   "metadata": {},
   "outputs": [],
   "source": [
    "nr_epochs = 5\n",
    "learning_rate = 1e-4\n",
    "\n",
    "n_hidden1 = 512\n",
    "n_hidden2 = 64"
   ]
  },
  {
   "cell_type": "code",
   "execution_count": 45,
   "id": "66996809",
   "metadata": {},
   "outputs": [],
   "source": [
    "initial_w1 = tf.compat.v1.truncated_normal(shape=[TOTAL_INPUTS, n_hidden1], stddev=0.1, seed=42, name='w1')\n",
    "w1 = tf.Variable(initial_value=initial_w1)\n",
    "\n",
    "initial_b1 = tf.constant(value=0.0, shape=[n_hidden1], name='b1')\n",
    "b1 = tf.Variable(initial_value=initial_b1)\n",
    "\n",
    "layer1_in = tf.matmul(X, w1) + b1\n",
    "layer1_out = tf.nn.relu(layer1_in)"
   ]
  },
  {
   "cell_type": "code",
   "execution_count": null,
   "id": "7e2b5743",
   "metadata": {},
   "outputs": [],
   "source": []
  },
  {
   "cell_type": "code",
   "execution_count": 46,
   "id": "d152de86",
   "metadata": {},
   "outputs": [],
   "source": [
    "initial_w2 = tf.compat.v1.truncated_normal(shape=[n_hidden1, n_hidden2], stddev=0.1, seed=42, name='w2')\n",
    "w2 = tf.Variable(initial_value=initial_w2)\n",
    "\n",
    "initial_b2 = tf.constant(value=0.0, shape=[n_hidden2], name='b2')\n",
    "b2 = tf.Variable(initial_value=initial_b2)\n",
    "\n",
    "layer2_in = tf.matmul(layer1_out, w2) + b2\n",
    "layer2_out = tf.nn.relu(layer2_in)"
   ]
  },
  {
   "cell_type": "code",
   "execution_count": null,
   "id": "03d18d8c",
   "metadata": {},
   "outputs": [],
   "source": []
  },
  {
   "cell_type": "code",
   "execution_count": 47,
   "id": "3cb2fb80",
   "metadata": {},
   "outputs": [],
   "source": [
    "initial_w3 = tf.compat.v1.truncated_normal(shape=[n_hidden2, NR_CLASSES], stddev=0.1, seed=42, name='w3')\n",
    "w3 = tf.Variable(initial_value=initial_w3)\n",
    "\n",
    "initial_b3 = tf.constant(value=0.0, shape=[NR_CLASSES], name='b3')\n",
    "b3 = tf.Variable(initial_value=initial_b3)\n",
    "\n",
    "layer3_in = tf.matmul(layer2_out, w3) + b3\n",
    "output = tf.nn.softmax(layer3_in)"
   ]
  },
  {
   "cell_type": "markdown",
   "id": "58e1f75f",
   "metadata": {},
   "source": [
    "# Setup Tensorboard"
   ]
  },
  {
   "cell_type": "code",
   "execution_count": 48,
   "id": "19d2bbdb",
   "metadata": {},
   "outputs": [
    {
     "name": "stdout",
     "output_type": "stream",
     "text": [
      "Successfully created directory\n"
     ]
    }
   ],
   "source": [
    "folder_name = f\"Model on {strftime('%d')}-{strftime('%b')} at {strftime('%H')}_{strftime('%M')}\"\n",
    "directory = os.path.join(LOGGING_PATH, folder_name)\n",
    "try:\n",
    "    os.makedirs(directory)\n",
    "except OSError as err:\n",
    "    print(err.strerror)\n",
    "else:\n",
    "    print('Successfully created directory')"
   ]
  },
  {
   "cell_type": "markdown",
   "id": "4badadb5",
   "metadata": {},
   "source": [
    "# Loss, Optimisation & Metrics"
   ]
  },
  {
   "cell_type": "markdown",
   "id": "d721f6c1",
   "metadata": {},
   "source": [
    "### Defining Loss Function"
   ]
  },
  {
   "cell_type": "code",
   "execution_count": 49,
   "id": "c48d9ce9",
   "metadata": {},
   "outputs": [],
   "source": [
    "loss = tf.reduce_mean(tf.compat.v1.nn.softmax_cross_entropy_with_logits_v2(labels=Y, logits=output))"
   ]
  },
  {
   "cell_type": "markdown",
   "id": "1a0d0178",
   "metadata": {},
   "source": [
    "### Defining Optimizer"
   ]
  },
  {
   "cell_type": "code",
   "execution_count": 50,
   "id": "7321427f",
   "metadata": {},
   "outputs": [],
   "source": [
    "optimizer = tf.compat.v1.train.AdamOptimizer(learning_rate=learning_rate)\n",
    "train_step = optimizer.minimize(loss)"
   ]
  },
  {
   "cell_type": "markdown",
   "id": "bdf51f6c",
   "metadata": {},
   "source": [
    "### Accuracy Metric"
   ]
  },
  {
   "cell_type": "code",
   "execution_count": 51,
   "id": "5140de74",
   "metadata": {},
   "outputs": [],
   "source": [
    "correct_pred = tf.equal(tf.argmax(output, axis=1), tf.argmax(Y, axis=1))\n",
    "accuracy = tf.reduce_mean(tf.cast(correct_pred, dtype=tf.float32))"
   ]
  },
  {
   "cell_type": "code",
   "execution_count": 52,
   "id": "b47ff6f5",
   "metadata": {},
   "outputs": [
    {
     "data": {
      "text/plain": [
       "<tf.Tensor 'accuracy:0' shape=() dtype=string>"
      ]
     },
     "execution_count": 52,
     "metadata": {},
     "output_type": "execute_result"
    }
   ],
   "source": [
    "tf.compat.v1.summary.scalar('cost', loss)\n",
    "tf.compat.v1.summary.scalar('accuracy', accuracy)"
   ]
  },
  {
   "cell_type": "markdown",
   "id": "abd14646",
   "metadata": {},
   "source": [
    "# Run  Session"
   ]
  },
  {
   "cell_type": "markdown",
   "id": "6d3b1caf",
   "metadata": {},
   "source": [
    "#### Initialize Global Variables"
   ]
  },
  {
   "cell_type": "code",
   "execution_count": 53,
   "id": "df0e664c",
   "metadata": {},
   "outputs": [],
   "source": [
    "sess = tf.compat.v1.Session()"
   ]
  },
  {
   "cell_type": "markdown",
   "id": "75517d70",
   "metadata": {},
   "source": [
    "#### Setup Filewriter and merge  summaries"
   ]
  },
  {
   "cell_type": "code",
   "execution_count": 54,
   "id": "fefaaa6a",
   "metadata": {},
   "outputs": [],
   "source": [
    "merged_summary = tf.compat.v1.summary.merge_all()\n",
    "\n",
    "train_writer = tf.compat.v1.summary.FileWriter(directory + '/train')\n",
    "train_writer.add_graph(sess.graph)\n",
    "\n",
    "validation_writer = tf.compat.v1.summary.FileWriter(directory + '/validation')"
   ]
  },
  {
   "cell_type": "code",
   "execution_count": 55,
   "id": "95e9f989",
   "metadata": {},
   "outputs": [],
   "source": [
    "# initialize global variables\n",
    "init = tf.compat.v1.global_variables_initializer()\n",
    "sess.run(init)"
   ]
  },
  {
   "cell_type": "code",
   "execution_count": 56,
   "id": "7bac8b45",
   "metadata": {},
   "outputs": [
    {
     "data": {
      "text/plain": [
       "array([[-0.02807751, -0.01377521, -0.06763297,  0.00245804, -0.04684547,\n",
       "        -0.00024663, -0.09745911,  0.06638492,  0.04368011, -0.07038976],\n",
       "       [ 0.06426843,  0.14513893,  0.1841282 , -0.01587993, -0.10607921,\n",
       "         0.15984018, -0.01142471,  0.14045748, -0.00587858, -0.04244646],\n",
       "       [-0.03702376, -0.05268839, -0.03103511, -0.05996868, -0.00144826,\n",
       "         0.19438368, -0.05893153,  0.115643  ,  0.1053272 ,  0.05255   ],\n",
       "       [ 0.08373224, -0.01663086, -0.01385766,  0.04728002,  0.08347194,\n",
       "        -0.03172532,  0.12180098, -0.03985466,  0.06396734, -0.06321164],\n",
       "       [-0.04811501, -0.0591412 ,  0.04668889,  0.1818193 , -0.10811663,\n",
       "        -0.0360087 ,  0.16283922,  0.05718798,  0.01851236,  0.02780658],\n",
       "       [ 0.0415091 , -0.1065625 ,  0.1417127 ,  0.0806262 , -0.06378367,\n",
       "        -0.05958629,  0.07530966, -0.02142833, -0.0680046 ,  0.19922827],\n",
       "       [ 0.02385167, -0.07702351, -0.09945031,  0.10000172, -0.01865594,\n",
       "         0.0217609 ,  0.01489197,  0.00750957,  0.05019556,  0.10746589],\n",
       "       [ 0.19975342,  0.06942507,  0.078145  ,  0.0791597 ,  0.04742816,\n",
       "         0.08397941, -0.11697159,  0.05673818, -0.05063554,  0.0274269 ],\n",
       "       [ 0.10948976,  0.11381973, -0.12198172,  0.01079377,  0.17567149,\n",
       "        -0.03793309,  0.07009781, -0.0633781 ,  0.15782069, -0.12499746],\n",
       "       [-0.04296274,  0.01618328, -0.12446442, -0.07231501,  0.04804945,\n",
       "        -0.14027934,  0.03694414, -0.00649776,  0.10542355,  0.09262919],\n",
       "       [-0.11990225, -0.01071434,  0.13084576,  0.10248349, -0.10496061,\n",
       "         0.00999079, -0.17154993, -0.04369577, -0.10915388, -0.03726152],\n",
       "       [ 0.07797579, -0.1222624 , -0.11131439, -0.08676329,  0.09804482,\n",
       "         0.04917557,  0.04363912,  0.03523783,  0.05928144,  0.01863419],\n",
       "       [-0.1407159 , -0.02691561, -0.12528968, -0.1669989 ,  0.0383246 ,\n",
       "         0.09902088, -0.02166216,  0.01327235,  0.06399664,  0.03371386],\n",
       "       [-0.18244818,  0.05868354,  0.06327408,  0.12236611,  0.12159977,\n",
       "        -0.0795841 ,  0.07306313, -0.01407403,  0.08505002, -0.03041922],\n",
       "       [ 0.12459507, -0.05005741, -0.1214096 , -0.01415679, -0.01014317,\n",
       "        -0.00475396,  0.18307468, -0.15762787,  0.06023089, -0.11331373],\n",
       "       [-0.0490207 , -0.04638876,  0.04184166, -0.05995232, -0.08777434,\n",
       "         0.02433945, -0.11068056, -0.08274703,  0.13381146,  0.06781988],\n",
       "       [-0.15104584, -0.18068354, -0.00116054,  0.12143542, -0.13497756,\n",
       "        -0.04118681,  0.01126575, -0.00495021,  0.0635987 , -0.10870657],\n",
       "       [-0.04267707,  0.16307278, -0.10475707,  0.06645637, -0.18743761,\n",
       "        -0.12263986, -0.1639614 ,  0.01875333,  0.08719871,  0.01312963],\n",
       "       [-0.10970279, -0.13858491, -0.10577183,  0.04849588, -0.16862278,\n",
       "        -0.06071758,  0.13820523,  0.12970673, -0.05788457, -0.01524131],\n",
       "       [ 0.03691548, -0.00229493,  0.15784945, -0.0628572 , -0.09198288,\n",
       "        -0.0472506 , -0.14479381, -0.00109401, -0.01331052,  0.11380215],\n",
       "       [-0.17846039, -0.08761605, -0.09391048, -0.04639417,  0.01970694,\n",
       "         0.15437646,  0.02604137,  0.00078094, -0.14677945,  0.10870852],\n",
       "       [ 0.09426447, -0.04015831, -0.09683897, -0.06336798, -0.05751316,\n",
       "        -0.02299668,  0.19164428, -0.01434857,  0.08114374, -0.08402783],\n",
       "       [-0.09824231,  0.06536099, -0.04866743, -0.08109596,  0.07468396,\n",
       "         0.04350628,  0.15538879,  0.04447332, -0.05149917, -0.04503993],\n",
       "       [ 0.15671708, -0.04346868, -0.0135273 , -0.02845195, -0.04087069,\n",
       "        -0.04749424,  0.08641241, -0.16038565,  0.01412155,  0.05075269],\n",
       "       [-0.06749325,  0.06142888, -0.07986069, -0.07030746, -0.14807521,\n",
       "         0.17977707,  0.05237643, -0.01466326, -0.05874953,  0.01285775],\n",
       "       [-0.04642662,  0.08389565, -0.01608612, -0.02642725,  0.03958549,\n",
       "        -0.05002169,  0.01128712,  0.00440929,  0.05672556, -0.0119464 ],\n",
       "       [-0.0320714 ,  0.05087284, -0.00404671,  0.1464126 ,  0.05505133,\n",
       "         0.11929472, -0.08316901, -0.08501723, -0.09097725,  0.07884274],\n",
       "       [-0.07522164,  0.06243526, -0.02248055,  0.07304431, -0.09438879,\n",
       "        -0.14807056, -0.04178571, -0.07872573,  0.12145051, -0.02424437],\n",
       "       [ 0.09820332,  0.09360453,  0.0708671 ,  0.07977755, -0.05839583,\n",
       "        -0.01650009,  0.07772146, -0.00382551,  0.09302257,  0.0963003 ],\n",
       "       [ 0.01736863, -0.1878708 ,  0.14003547, -0.02409804,  0.06248815,\n",
       "        -0.03557932, -0.08686981, -0.07959106, -0.03784876,  0.07018049],\n",
       "       [-0.04799239, -0.03150252,  0.00455726, -0.05957182,  0.01956699,\n",
       "        -0.03190704,  0.0112565 , -0.01559199,  0.03247486,  0.10895025],\n",
       "       [ 0.03631255,  0.05091823,  0.122449  ,  0.12371515, -0.02330469,\n",
       "        -0.05258792, -0.18686844, -0.12087803, -0.06921631,  0.07115036],\n",
       "       [ 0.01340662, -0.03867727,  0.17852668,  0.02116007, -0.09774253,\n",
       "        -0.07561906,  0.03984291, -0.04337355,  0.18584971,  0.06278016],\n",
       "       [-0.02553378, -0.10265229, -0.05095342, -0.04247017, -0.05305484,\n",
       "         0.09843509, -0.00816425,  0.08106066, -0.06619398, -0.13814563],\n",
       "       [ 0.03495328,  0.00071917, -0.05202509,  0.05744205, -0.03873127,\n",
       "        -0.12564139,  0.07135309, -0.16487418, -0.10259167, -0.0742633 ],\n",
       "       [-0.04342289,  0.06082072, -0.02929746,  0.01306478,  0.15483521,\n",
       "         0.03282189, -0.1137336 ,  0.05850283, -0.16170399,  0.0253557 ],\n",
       "       [-0.04623796, -0.07042482, -0.09048995,  0.02280924, -0.14322458,\n",
       "        -0.01651618,  0.04698648, -0.06797492,  0.06626766, -0.0751532 ],\n",
       "       [ 0.05858833,  0.13579556, -0.03535699,  0.12611724,  0.13563968,\n",
       "        -0.13331787,  0.1044719 ,  0.05377292,  0.09806725,  0.00856849],\n",
       "       [ 0.02811019, -0.08537645,  0.02301993,  0.09584944,  0.01194962,\n",
       "         0.16580698, -0.00802785,  0.03594247,  0.08584943, -0.12880854],\n",
       "       [ 0.02795664,  0.08797815, -0.11960681, -0.03959766,  0.00021884,\n",
       "        -0.05359963,  0.06223178, -0.11795849,  0.08976074, -0.11437098],\n",
       "       [-0.01954784,  0.09210186, -0.04016196,  0.02974118, -0.04208481,\n",
       "        -0.07538876, -0.04931438,  0.05283419, -0.04101412,  0.00219903],\n",
       "       [-0.08885235, -0.08977638,  0.1535019 ,  0.04222087,  0.11316948,\n",
       "         0.07864556,  0.03913929, -0.05197453,  0.09436744,  0.11782551],\n",
       "       [-0.01552767, -0.19302987, -0.09731438,  0.01138544,  0.04992124,\n",
       "         0.09854927,  0.08711896,  0.11019099, -0.02484825, -0.02707598],\n",
       "       [-0.03298601, -0.04548927, -0.09996536, -0.14047071, -0.0941157 ,\n",
       "        -0.11533872, -0.01771476,  0.08991428,  0.06481227,  0.03831128],\n",
       "       [-0.02123693,  0.04249625,  0.002823  , -0.07624251, -0.0171665 ,\n",
       "        -0.06329685, -0.02936132, -0.04579056,  0.00904735, -0.03295038],\n",
       "       [ 0.07044279,  0.0084195 , -0.08761161,  0.01105069, -0.04347207,\n",
       "         0.04399671,  0.10105415, -0.15504183,  0.09319676, -0.03294804],\n",
       "       [-0.00744332,  0.11567726, -0.01871113,  0.00461873,  0.03150686,\n",
       "         0.00307011,  0.02763207,  0.07998925,  0.05269438, -0.04737147],\n",
       "       [-0.10433074, -0.00965962, -0.03334237, -0.10150257, -0.10744543,\n",
       "         0.0229231 , -0.11024404, -0.11114682, -0.03026007, -0.05355877],\n",
       "       [ 0.13133918, -0.00475693,  0.04260547,  0.15103452,  0.16030447,\n",
       "        -0.01777791, -0.04018855, -0.02357423, -0.12922516, -0.16102912],\n",
       "       [ 0.03026888,  0.08169638,  0.02974022, -0.08221041,  0.04418704,\n",
       "         0.0301153 ,  0.18877397,  0.06604984,  0.04373079, -0.00055588],\n",
       "       [-0.0900782 , -0.00061604, -0.1118167 , -0.07804056,  0.1605412 ,\n",
       "        -0.05154799, -0.07350355, -0.1369627 , -0.11967792, -0.02663724],\n",
       "       [ 0.02861341, -0.05550233, -0.16205125, -0.18859725, -0.03102448,\n",
       "        -0.05854902, -0.08853104,  0.0502748 ,  0.16078202,  0.00140893],\n",
       "       [-0.08314113, -0.04015522,  0.04492704, -0.02881641, -0.08829822,\n",
       "         0.17000918, -0.06353803, -0.08951511, -0.12257592, -0.08306643],\n",
       "       [ 0.04546814,  0.13838495,  0.08922637,  0.11818005,  0.10857447,\n",
       "        -0.03945483, -0.04948096, -0.00052414,  0.04435238,  0.04476986],\n",
       "       [ 0.06125711,  0.00118869,  0.02842633,  0.05597871,  0.0442098 ,\n",
       "         0.05240425,  0.12094331, -0.00674093, -0.08825886, -0.10107034],\n",
       "       [ 0.00373395, -0.04377305, -0.0015969 , -0.05939452, -0.12174726,\n",
       "         0.0429016 ,  0.01386563,  0.00054517, -0.07734873, -0.09693911],\n",
       "       [ 0.07202928,  0.15320925,  0.05482936,  0.0153862 , -0.05291035,\n",
       "        -0.05286763, -0.09102017, -0.03447251,  0.03067657, -0.09571432],\n",
       "       [-0.07828747,  0.16720748, -0.17364219,  0.13741802, -0.1024608 ,\n",
       "         0.07202186,  0.03617656, -0.09429541,  0.04707166,  0.0264302 ],\n",
       "       [-0.00852466, -0.1507252 ,  0.18173777,  0.16395542, -0.01721078,\n",
       "         0.00778862, -0.10595149, -0.03317054,  0.10300374, -0.17462318],\n",
       "       [ 0.0549806 ,  0.0260993 , -0.05533333, -0.00481472, -0.05013586,\n",
       "        -0.08594927, -0.15913464,  0.02212767,  0.1422428 , -0.09809081],\n",
       "       [ 0.03167887,  0.1490567 ,  0.00798696,  0.08745544,  0.12330002,\n",
       "        -0.18998528, -0.14323501, -0.08332659,  0.04809115,  0.02451584],\n",
       "       [ 0.0540421 ,  0.03556429, -0.07740539,  0.09232695,  0.09910789,\n",
       "         0.12350378, -0.0361796 , -0.03469535,  0.00490161, -0.0108135 ],\n",
       "       [-0.19165543,  0.05724786, -0.10281064, -0.01311867, -0.02846866,\n",
       "        -0.14256184, -0.08131184, -0.10931086, -0.02024234, -0.07422628],\n",
       "       [-0.19004993,  0.05926235, -0.15875994,  0.02357665, -0.1066744 ,\n",
       "        -0.17131463, -0.04859731,  0.1881952 ,  0.02070147, -0.15829377]],\n",
       "      dtype=float32)"
      ]
     },
     "execution_count": 56,
     "metadata": {},
     "output_type": "execute_result"
    }
   ],
   "source": [
    "w3.eval(sess)"
   ]
  },
  {
   "cell_type": "markdown",
   "id": "9747e199",
   "metadata": {},
   "source": [
    "## Batching the Data"
   ]
  },
  {
   "cell_type": "code",
   "execution_count": 57,
   "id": "d6190178",
   "metadata": {},
   "outputs": [],
   "source": [
    "size_of_batch = 1000"
   ]
  },
  {
   "cell_type": "code",
   "execution_count": 58,
   "id": "78b00599",
   "metadata": {},
   "outputs": [],
   "source": [
    "nr_examples = y_train.shape[0]\n",
    "nr_iterations = int(nr_examples/size_of_batch)\n",
    "\n",
    "index_in_epoch = 0"
   ]
  },
  {
   "cell_type": "code",
   "execution_count": 59,
   "id": "edb0d0c1",
   "metadata": {},
   "outputs": [],
   "source": [
    "def get_next_batch(batch_size, data, labels):\n",
    "    \n",
    "    global nr_examples\n",
    "    global index_in_epoch\n",
    "    \n",
    "    start = index_in_epoch\n",
    "    index_in_epoch += batch_size\n",
    "    \n",
    "    if index_in_epoch > nr_examples:\n",
    "        start = 0\n",
    "        index_in_epoch = batch_size\n",
    "    \n",
    "    end = index_in_epoch\n",
    "    \n",
    "    return data[start:end], labels[start:end]"
   ]
  },
  {
   "cell_type": "markdown",
   "id": "87b909e8",
   "metadata": {},
   "source": [
    "## Training Loop"
   ]
  },
  {
   "cell_type": "code",
   "execution_count": 60,
   "id": "21108531",
   "metadata": {},
   "outputs": [
    {
     "name": "stdout",
     "output_type": "stream",
     "text": [
      "Epoch 0 ------------------------------- Training Accuracy 0.4050000011920929\n",
      "Epoch 1 ------------------------------- Training Accuracy 0.7329999804496765\n",
      "Epoch 2 ------------------------------- Training Accuracy 0.8190000057220459\n",
      "Epoch 3 ------------------------------- Training Accuracy 0.843999981880188\n",
      "Epoch 4 ------------------------------- Training Accuracy 0.8560000061988831\n",
      "Training Finished!\n"
     ]
    }
   ],
   "source": [
    "for epoch  in range(nr_epochs):\n",
    "    #------------------------training-------------------------------\n",
    "    for i in range(nr_iterations):\n",
    "        batch_x, batch_y = get_next_batch(batch_size=size_of_batch, data=x_train, labels=y_train)\n",
    "        feed_dictionary = {X:batch_x, Y:batch_y}\n",
    "        sess.run(train_step, feed_dict=feed_dictionary)\n",
    "    su, batch_accuracy = sess.run(fetches=[merged_summary, accuracy], feed_dict=feed_dictionary)\n",
    "    train_writer.add_summary(su, epoch)\n",
    "        \n",
    "    print(f\"Epoch {epoch} ------------------------------- Training Accuracy {batch_accuracy}\")\n",
    "    #--------------------------validation-------------------------------\n",
    "    summary = sess.run(fetches=merged_summary, feed_dict={X:x_val, Y:y_val})\n",
    "    validation_writer.add_summary(summary, epoch)\n",
    "print('Training Finished!')\n",
    "        "
   ]
  },
  {
   "cell_type": "markdown",
   "id": "392b57d1",
   "metadata": {},
   "source": [
    "# Reset for Next Iteration"
   ]
  },
  {
   "cell_type": "code",
   "execution_count": 61,
   "id": "704f3a44",
   "metadata": {},
   "outputs": [],
   "source": [
    "train_writer.close()\n",
    "validation_writer.close()\n",
    "sess.close()\n",
    "tf.compat.v1.reset_default_graph()"
   ]
  },
  {
   "cell_type": "code",
   "execution_count": null,
   "id": "2e704b7c",
   "metadata": {},
   "outputs": [],
   "source": []
  },
  {
   "cell_type": "code",
   "execution_count": null,
   "id": "9a7df491",
   "metadata": {},
   "outputs": [],
   "source": []
  }
 ],
 "metadata": {
  "kernelspec": {
   "display_name": "Python 3 (ipykernel)",
   "language": "python",
   "name": "python3"
  },
  "language_info": {
   "codemirror_mode": {
    "name": "ipython",
    "version": 3
   },
   "file_extension": ".py",
   "mimetype": "text/x-python",
   "name": "python",
   "nbconvert_exporter": "python",
   "pygments_lexer": "ipython3",
   "version": "3.8.3"
  }
 },
 "nbformat": 4,
 "nbformat_minor": 5
}
